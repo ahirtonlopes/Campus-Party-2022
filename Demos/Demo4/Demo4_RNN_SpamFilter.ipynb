{
  "nbformat": 4,
  "nbformat_minor": 0,
  "metadata": {
    "colab": {
      "provenance": [],
      "collapsed_sections": []
    },
    "kernelspec": {
      "name": "python3",
      "display_name": "Python 3"
    },
    "accelerator": "GPU",
    "gpuClass": "standard"
  },
  "cells": [
    {
      "cell_type": "markdown",
      "metadata": {
        "id": "0UFqiLKTva3f"
      },
      "source": [
        "# Demo 4 - Recurrent Neural Networks (RNNs)\n",
        "\n",
        "### Recurrent Neural Networks usando Keras e a base SMS Spam Collection Data (mensagens spam rotuladas)\n",
        "\n",
        "### Prof. Dr. José Ahirton Batista Lopes Filho"
      ]
    },
    {
      "cell_type": "code",
      "metadata": {
        "id": "YftvC61ju484"
      },
      "source": [
        "from keras.layers import SimpleRNN, LSTM, GRU, Embedding, Dense, Flatten\n",
        "from keras.models import Sequential\n",
        "from keras.preprocessing.text import Tokenizer\n",
        "from keras_preprocessing.sequence import pad_sequences\n",
        "from keras.utils.vis_utils import plot_model\n",
        "\n",
        "import pandas as pd\n",
        "import numpy as np\n",
        "import matplotlib.pyplot as plt\n",
        "import numpy as np"
      ],
      "execution_count": 6,
      "outputs": []
    },
    {
      "cell_type": "code",
      "metadata": {
        "id": "bkqHpovUu-yd"
      },
      "source": [
        "def message_to_array(msg):\n",
        "    msg = msg.lower().split(' ')\n",
        "    test_seq = np.array([word_index[word] for word in msg])\n",
        "\n",
        "    test_seq = np.pad(test_seq, (500-len(test_seq), 0), 'constant', constant_values=(0))\n",
        "    test_seq = test_seq.reshape(1, 500)\n",
        "    return test_seq"
      ],
      "execution_count": 3,
      "outputs": []
    },
    {
      "cell_type": "markdown",
      "metadata": {
        "id": "r3hruwWJk0fW"
      },
      "source": [
        "### Carregando a base SMS Spam Collection Data (sms rotulados em spam e ham)\n",
        "\n",
        "*** Mais informações em https://www.kaggle.com/uciml/sms-spam-collection-dataset e https://archive.ics.uci.edu/ml/datasets/sms+spam+collection ***"
      ]
    },
    {
      "cell_type": "code",
      "metadata": {
        "id": "g2ZrsckFvq-U",
        "colab": {
          "base_uri": "https://localhost:8080/",
          "height": 92
        },
        "outputId": "14432056-fde1-4990-cf45-1d87d0ee84b6"
      },
      "source": [
        "from google.colab import files\n",
        "\n",
        "uploaded = files.upload()\n",
        "\n",
        "for fn in uploaded.keys():\n",
        "  print('Arquivo de nome \"{name}\" de tamanho {length} bytes'.format(\n",
        "      name=fn, length=len(uploaded[fn])))"
      ],
      "execution_count": 4,
      "outputs": [
        {
          "output_type": "display_data",
          "data": {
            "text/plain": [
              "<IPython.core.display.HTML object>"
            ],
            "text/html": [
              "\n",
              "     <input type=\"file\" id=\"files-b3666eae-f5d8-47ca-9626-b98030f8c451\" name=\"files[]\" multiple disabled\n",
              "        style=\"border:none\" />\n",
              "     <output id=\"result-b3666eae-f5d8-47ca-9626-b98030f8c451\">\n",
              "      Upload widget is only available when the cell has been executed in the\n",
              "      current browser session. Please rerun this cell to enable.\n",
              "      </output>\n",
              "      <script>// Copyright 2017 Google LLC\n",
              "//\n",
              "// Licensed under the Apache License, Version 2.0 (the \"License\");\n",
              "// you may not use this file except in compliance with the License.\n",
              "// You may obtain a copy of the License at\n",
              "//\n",
              "//      http://www.apache.org/licenses/LICENSE-2.0\n",
              "//\n",
              "// Unless required by applicable law or agreed to in writing, software\n",
              "// distributed under the License is distributed on an \"AS IS\" BASIS,\n",
              "// WITHOUT WARRANTIES OR CONDITIONS OF ANY KIND, either express or implied.\n",
              "// See the License for the specific language governing permissions and\n",
              "// limitations under the License.\n",
              "\n",
              "/**\n",
              " * @fileoverview Helpers for google.colab Python module.\n",
              " */\n",
              "(function(scope) {\n",
              "function span(text, styleAttributes = {}) {\n",
              "  const element = document.createElement('span');\n",
              "  element.textContent = text;\n",
              "  for (const key of Object.keys(styleAttributes)) {\n",
              "    element.style[key] = styleAttributes[key];\n",
              "  }\n",
              "  return element;\n",
              "}\n",
              "\n",
              "// Max number of bytes which will be uploaded at a time.\n",
              "const MAX_PAYLOAD_SIZE = 100 * 1024;\n",
              "\n",
              "function _uploadFiles(inputId, outputId) {\n",
              "  const steps = uploadFilesStep(inputId, outputId);\n",
              "  const outputElement = document.getElementById(outputId);\n",
              "  // Cache steps on the outputElement to make it available for the next call\n",
              "  // to uploadFilesContinue from Python.\n",
              "  outputElement.steps = steps;\n",
              "\n",
              "  return _uploadFilesContinue(outputId);\n",
              "}\n",
              "\n",
              "// This is roughly an async generator (not supported in the browser yet),\n",
              "// where there are multiple asynchronous steps and the Python side is going\n",
              "// to poll for completion of each step.\n",
              "// This uses a Promise to block the python side on completion of each step,\n",
              "// then passes the result of the previous step as the input to the next step.\n",
              "function _uploadFilesContinue(outputId) {\n",
              "  const outputElement = document.getElementById(outputId);\n",
              "  const steps = outputElement.steps;\n",
              "\n",
              "  const next = steps.next(outputElement.lastPromiseValue);\n",
              "  return Promise.resolve(next.value.promise).then((value) => {\n",
              "    // Cache the last promise value to make it available to the next\n",
              "    // step of the generator.\n",
              "    outputElement.lastPromiseValue = value;\n",
              "    return next.value.response;\n",
              "  });\n",
              "}\n",
              "\n",
              "/**\n",
              " * Generator function which is called between each async step of the upload\n",
              " * process.\n",
              " * @param {string} inputId Element ID of the input file picker element.\n",
              " * @param {string} outputId Element ID of the output display.\n",
              " * @return {!Iterable<!Object>} Iterable of next steps.\n",
              " */\n",
              "function* uploadFilesStep(inputId, outputId) {\n",
              "  const inputElement = document.getElementById(inputId);\n",
              "  inputElement.disabled = false;\n",
              "\n",
              "  const outputElement = document.getElementById(outputId);\n",
              "  outputElement.innerHTML = '';\n",
              "\n",
              "  const pickedPromise = new Promise((resolve) => {\n",
              "    inputElement.addEventListener('change', (e) => {\n",
              "      resolve(e.target.files);\n",
              "    });\n",
              "  });\n",
              "\n",
              "  const cancel = document.createElement('button');\n",
              "  inputElement.parentElement.appendChild(cancel);\n",
              "  cancel.textContent = 'Cancel upload';\n",
              "  const cancelPromise = new Promise((resolve) => {\n",
              "    cancel.onclick = () => {\n",
              "      resolve(null);\n",
              "    };\n",
              "  });\n",
              "\n",
              "  // Wait for the user to pick the files.\n",
              "  const files = yield {\n",
              "    promise: Promise.race([pickedPromise, cancelPromise]),\n",
              "    response: {\n",
              "      action: 'starting',\n",
              "    }\n",
              "  };\n",
              "\n",
              "  cancel.remove();\n",
              "\n",
              "  // Disable the input element since further picks are not allowed.\n",
              "  inputElement.disabled = true;\n",
              "\n",
              "  if (!files) {\n",
              "    return {\n",
              "      response: {\n",
              "        action: 'complete',\n",
              "      }\n",
              "    };\n",
              "  }\n",
              "\n",
              "  for (const file of files) {\n",
              "    const li = document.createElement('li');\n",
              "    li.append(span(file.name, {fontWeight: 'bold'}));\n",
              "    li.append(span(\n",
              "        `(${file.type || 'n/a'}) - ${file.size} bytes, ` +\n",
              "        `last modified: ${\n",
              "            file.lastModifiedDate ? file.lastModifiedDate.toLocaleDateString() :\n",
              "                                    'n/a'} - `));\n",
              "    const percent = span('0% done');\n",
              "    li.appendChild(percent);\n",
              "\n",
              "    outputElement.appendChild(li);\n",
              "\n",
              "    const fileDataPromise = new Promise((resolve) => {\n",
              "      const reader = new FileReader();\n",
              "      reader.onload = (e) => {\n",
              "        resolve(e.target.result);\n",
              "      };\n",
              "      reader.readAsArrayBuffer(file);\n",
              "    });\n",
              "    // Wait for the data to be ready.\n",
              "    let fileData = yield {\n",
              "      promise: fileDataPromise,\n",
              "      response: {\n",
              "        action: 'continue',\n",
              "      }\n",
              "    };\n",
              "\n",
              "    // Use a chunked sending to avoid message size limits. See b/62115660.\n",
              "    let position = 0;\n",
              "    do {\n",
              "      const length = Math.min(fileData.byteLength - position, MAX_PAYLOAD_SIZE);\n",
              "      const chunk = new Uint8Array(fileData, position, length);\n",
              "      position += length;\n",
              "\n",
              "      const base64 = btoa(String.fromCharCode.apply(null, chunk));\n",
              "      yield {\n",
              "        response: {\n",
              "          action: 'append',\n",
              "          file: file.name,\n",
              "          data: base64,\n",
              "        },\n",
              "      };\n",
              "\n",
              "      let percentDone = fileData.byteLength === 0 ?\n",
              "          100 :\n",
              "          Math.round((position / fileData.byteLength) * 100);\n",
              "      percent.textContent = `${percentDone}% done`;\n",
              "\n",
              "    } while (position < fileData.byteLength);\n",
              "  }\n",
              "\n",
              "  // All done.\n",
              "  yield {\n",
              "    response: {\n",
              "      action: 'complete',\n",
              "    }\n",
              "  };\n",
              "}\n",
              "\n",
              "scope.google = scope.google || {};\n",
              "scope.google.colab = scope.google.colab || {};\n",
              "scope.google.colab._files = {\n",
              "  _uploadFiles,\n",
              "  _uploadFilesContinue,\n",
              "};\n",
              "})(self);\n",
              "</script> "
            ]
          },
          "metadata": {}
        },
        {
          "output_type": "stream",
          "name": "stdout",
          "text": [
            "Saving spam_data.csv to spam_data.csv\n",
            "Arquivo de nome \"spam_data.csv\" de tamanho 485703 bytes\n"
          ]
        }
      ]
    },
    {
      "cell_type": "code",
      "metadata": {
        "id": "dfbJaVJavPh5"
      },
      "source": [
        "# Importando nossos dados a partir do arquivo .csv\n",
        "\n",
        "data = pd.read_csv('spam_data.csv', sep=',')"
      ],
      "execution_count": 7,
      "outputs": []
    },
    {
      "cell_type": "markdown",
      "metadata": {
        "id": "eU9GyNPHlfbF"
      },
      "source": [
        "## Pré processamento de mensagens e rótulos"
      ]
    },
    {
      "cell_type": "code",
      "metadata": {
        "id": "n6MKnJbrwo5g"
      },
      "source": [
        "messages = []\n",
        "labels = []\n",
        "\n",
        "for index, row in data.iterrows():\n",
        "    messages.append(row['Message'])\n",
        "    if row['Category'] == 'ham': # classificando em 0 e 1\n",
        "        labels.append(0)\n",
        "    else:\n",
        "        labels.append(1)"
      ],
      "execution_count": 8,
      "outputs": []
    },
    {
      "cell_type": "code",
      "metadata": {
        "id": "SEAeTE8FwzG0",
        "colab": {
          "base_uri": "https://localhost:8080/"
        },
        "outputId": "41f33b99-4e47-4d70-8105-fc293dd37680"
      },
      "source": [
        "text_data_train = np.asarray(messages)\n",
        "text_data_target = np.asarray(labels)\n",
        "\n",
        "print(\"Numero de mensagens: \", len(messages))\n",
        "print(\"Numero de rotulos: \", len(labels))"
      ],
      "execution_count": 9,
      "outputs": [
        {
          "output_type": "stream",
          "name": "stdout",
          "text": [
            "Numero de mensagens:  5572\n",
            "Numero de rotulos:  5572\n"
          ]
        }
      ]
    },
    {
      "cell_type": "markdown",
      "metadata": {
        "id": "_Eae1j77lnxI"
      },
      "source": [
        "## Verificando o formato de nossas mensagens e rótulos"
      ]
    },
    {
      "cell_type": "code",
      "metadata": {
        "id": "r4Y6UKo-3jJ2",
        "colab": {
          "base_uri": "https://localhost:8080/"
        },
        "outputId": "47536631-18a1-4eae-f197-ff62040f36da"
      },
      "source": [
        "text_data_train[:5]"
      ],
      "execution_count": 10,
      "outputs": [
        {
          "output_type": "execute_result",
          "data": {
            "text/plain": [
              "array(['Go until jurong point, crazy.. Available only in bugis n great world la e buffet... Cine there got amore wat...',\n",
              "       'Ok lar... Joking wif u oni...',\n",
              "       \"Free entry in 2 a wkly comp to win FA Cup final tkts 21st May 2005. Text FA to 87121 to receive entry question(std txt rate)T&C's apply 08452810075over18's\",\n",
              "       'U dun say so early hor... U c already then say...',\n",
              "       \"Nah I don't think he goes to usf, he lives around here though\"],\n",
              "      dtype='<U910')"
            ]
          },
          "metadata": {},
          "execution_count": 10
        }
      ]
    },
    {
      "cell_type": "code",
      "metadata": {
        "id": "iUfKWZdf3ouG",
        "colab": {
          "base_uri": "https://localhost:8080/"
        },
        "outputId": "22b6462f-3bd8-4730-83f7-d830b6b6d8cd"
      },
      "source": [
        "text_data_target[:5]"
      ],
      "execution_count": 11,
      "outputs": [
        {
          "output_type": "execute_result",
          "data": {
            "text/plain": [
              "array([0, 0, 1, 0, 0])"
            ]
          },
          "metadata": {},
          "execution_count": 11
        }
      ]
    },
    {
      "cell_type": "markdown",
      "metadata": {
        "id": "XxLRgFVilzfT"
      },
      "source": [
        "## Processamento de nosso vocabulário"
      ]
    },
    {
      "cell_type": "code",
      "metadata": {
        "id": "Gm6kP3Tkw-HX",
        "colab": {
          "base_uri": "https://localhost:8080/"
        },
        "outputId": "6b1c87e6-d3c7-411a-8d82-2b97b942e665"
      },
      "source": [
        "max_vocab = 10000 # Ignorando todas as palavras, exceto as 10.000 palavras mais comuns em nosso vocabulário\n",
        "max_len = 500 # max_len especifica o comprimento máximo da sequência (que é truncada se for longa, e preenchida - via padding - se mais curta)\n",
        "\n",
        "tokenizer = Tokenizer(num_words=max_vocab)\n",
        "\n",
        "# Calculando a frequência das palavras em nossos dados de treinamento\n",
        "\n",
        "tokenizer.fit_on_texts(text_data_train)\n",
        "\n",
        "# Convertendo um array de mensagens para uma lista de sequências de inteiros\n",
        "\n",
        "sequences = tokenizer.texts_to_sequences(text_data_train)\n",
        "\n",
        "# Criação de dicionário afim de registrar as palavras para um índice do tipo inteiro\n",
        "\n",
        "word_index = tokenizer.word_index\n",
        "\n",
        "# Convertendo a matriz de sequências de inteiros em uma matriz 2D (com preenchimento, quando necessário)\n",
        "\n",
        "data = pad_sequences(sequences, maxlen=max_len)\n",
        "\n",
        "print(\"data shape: \", data.shape)"
      ],
      "execution_count": 12,
      "outputs": [
        {
          "output_type": "stream",
          "name": "stdout",
          "text": [
            "data shape:  (5572, 500)\n"
          ]
        }
      ]
    },
    {
      "cell_type": "markdown",
      "metadata": {
        "id": "UfmXfHGQl5An"
      },
      "source": [
        "## Dividindo o dataset em treinamento e validação"
      ]
    },
    {
      "cell_type": "code",
      "metadata": {
        "id": "gs6SAjxSxcQx"
      },
      "source": [
        "# Usando 80% dos dados disponíveis para treinamento e validação (80% treinamento, 20% validação), bem como 20% para teste\n",
        "\n",
        "train_samples = int(len(text_data_train)*0.8)\n",
        "\n",
        "messages_train = data[:train_samples]\n",
        "labels_train = text_data_target[:train_samples]\n",
        "\n",
        "messages_test = data[train_samples:len(text_data_train)-2]\n",
        "labels_test = text_data_target[train_samples:len(text_data_train)-2]\n",
        "\n",
        "embedding_mat_columns=32"
      ],
      "execution_count": 13,
      "outputs": []
    },
    {
      "cell_type": "markdown",
      "metadata": {
        "id": "Cm6Eiay_mCZe"
      },
      "source": [
        "## Definindo a arquitetura do modelo (IMPORTANTE!)\n",
        "\n",
        "* 3 camadas (Camadas de Embedding, Camada RNN Simples e Densa);\n",
        "* Uma última camada do tipo totalmente conectada contendo 1 neurônio."
      ]
    },
    {
      "cell_type": "code",
      "metadata": {
        "id": "KQrMlpSKxfa8"
      },
      "source": [
        "# Construindo nosso modelo de RNN Simples (via camada SimpleRNN)\n",
        "\n",
        "model = Sequential()\n",
        "\n",
        "# Utilização de camada de Embedding tendo em vista converter a codificação de inteiros em embeddings de palavras\n",
        "# O modelo vai então aprender a partir da matriz de embedding durante o treinamento;\n",
        "\n",
        "model.add(Embedding(input_dim=max_vocab, output_dim=embedding_mat_columns, input_length=max_len)) # A matriz de embedding contém max_vocab como número de linhas e o número de colunas escolhido\n",
        "\n",
        "model.add(SimpleRNN(units=embedding_mat_columns))\n",
        "\n",
        "# Podem testar com novas arquiteturas de camadas (RNNs, LSTMs e GRUs Bidirecionais e stackings) (!)\n",
        "\n",
        "#model.add(LSTM(units=embedding_mat_columns))\n",
        "#model.add(GRU(units=embedding_mat_columns))\n",
        "\n",
        "model.add(Dense(1, activation='sigmoid'))"
      ],
      "execution_count": 14,
      "outputs": []
    },
    {
      "cell_type": "markdown",
      "metadata": {
        "id": "G3ERDDXRmvjA"
      },
      "source": [
        "## Compilando o modelo"
      ]
    },
    {
      "cell_type": "code",
      "metadata": {
        "id": "Ojcp_atkxhx8",
        "colab": {
          "base_uri": "https://localhost:8080/"
        },
        "outputId": "cb5b1943-03e2-4f06-c63e-d829d83b285b"
      },
      "source": [
        "model.compile(optimizer='rmsprop', loss='binary_crossentropy', metrics=['acc'])\n",
        "model.summary()"
      ],
      "execution_count": 15,
      "outputs": [
        {
          "output_type": "stream",
          "name": "stdout",
          "text": [
            "Model: \"sequential\"\n",
            "_________________________________________________________________\n",
            " Layer (type)                Output Shape              Param #   \n",
            "=================================================================\n",
            " embedding (Embedding)       (None, 500, 32)           320000    \n",
            "                                                                 \n",
            " simple_rnn (SimpleRNN)      (None, 32)                2080      \n",
            "                                                                 \n",
            " dense (Dense)               (None, 1)                 33        \n",
            "                                                                 \n",
            "=================================================================\n",
            "Total params: 322,113\n",
            "Trainable params: 322,113\n",
            "Non-trainable params: 0\n",
            "_________________________________________________________________\n"
          ]
        }
      ]
    },
    {
      "cell_type": "markdown",
      "metadata": {
        "id": "6TYFZnYbmz0p"
      },
      "source": [
        "## Verificando nosso nosso modelo "
      ]
    },
    {
      "cell_type": "code",
      "metadata": {
        "id": "kGppbyOUxlRL",
        "colab": {
          "base_uri": "https://localhost:8080/",
          "height": 422
        },
        "outputId": "73659b08-1163-47f8-c295-42aaf2898c3a"
      },
      "source": [
        "plot_model(model, to_file='model.png', show_shapes=True, show_layer_names=True)"
      ],
      "execution_count": 16,
      "outputs": [
        {
          "output_type": "execute_result",
          "data": {
            "image/png": "[encoded data removed]",
            "text/plain": [
              "<IPython.core.display.Image object>"
            ]
          },
          "metadata": {},
          "execution_count": 16
        }
      ]
    },
    {
      "cell_type": "markdown",
      "metadata": {
        "id": "yUHp6nrdm-5G"
      },
      "source": [
        "## Treinamento de nosso modelo"
      ]
    },
    {
      "cell_type": "code",
      "metadata": {
        "id": "J35_0idkxnh7",
        "colab": {
          "base_uri": "https://localhost:8080/"
        },
        "outputId": "cba8766f-6819-4af5-dacf-0baef5809da6"
      },
      "source": [
        "model.fit(messages_train, labels_train, epochs=50, batch_size=64, validation_split=0.2)"
      ],
      "execution_count": 17,
      "outputs": [
        {
          "output_type": "stream",
          "name": "stdout",
          "text": [
            "Epoch 1/50\n",
            "56/56 [==============================] - 29s 467ms/step - loss: 0.3562 - acc: 0.8769 - val_loss: 0.1829 - val_acc: 0.9675\n",
            "Epoch 2/50\n",
            "56/56 [==============================] - 28s 498ms/step - loss: 0.1078 - acc: 0.9734 - val_loss: 0.0735 - val_acc: 0.9765\n",
            "Epoch 3/50\n",
            "56/56 [==============================] - 26s 457ms/step - loss: 0.1554 - acc: 0.9394 - val_loss: 0.5765 - val_acc: 0.7197\n",
            "Epoch 4/50\n",
            "56/56 [==============================] - 27s 484ms/step - loss: 0.2600 - acc: 0.8847 - val_loss: 0.2139 - val_acc: 0.9204\n",
            "Epoch 5/50\n",
            "56/56 [==============================] - 25s 452ms/step - loss: 0.0978 - acc: 0.9691 - val_loss: 0.1546 - val_acc: 0.9451\n",
            "Epoch 6/50\n",
            "56/56 [==============================] - 26s 457ms/step - loss: 0.0573 - acc: 0.9835 - val_loss: 0.0639 - val_acc: 0.9798\n",
            "Epoch 7/50\n",
            "56/56 [==============================] - 28s 493ms/step - loss: 0.0270 - acc: 0.9916 - val_loss: 0.0622 - val_acc: 0.9832\n",
            "Epoch 8/50\n",
            "56/56 [==============================] - 26s 459ms/step - loss: 0.0354 - acc: 0.9877 - val_loss: 0.1120 - val_acc: 0.9619\n",
            "Epoch 9/50\n",
            "56/56 [==============================] - 26s 465ms/step - loss: 0.0213 - acc: 0.9938 - val_loss: 0.0676 - val_acc: 0.9798\n",
            "Epoch 10/50\n",
            "56/56 [==============================] - 26s 461ms/step - loss: 0.0098 - acc: 0.9975 - val_loss: 0.0618 - val_acc: 0.9832\n",
            "Epoch 11/50\n",
            "56/56 [==============================] - 27s 486ms/step - loss: 0.0096 - acc: 0.9972 - val_loss: 0.0970 - val_acc: 0.9697\n",
            "Epoch 12/50\n",
            "56/56 [==============================] - 25s 438ms/step - loss: 0.0077 - acc: 0.9980 - val_loss: 0.1238 - val_acc: 0.9619\n",
            "Epoch 13/50\n",
            "56/56 [==============================] - 26s 460ms/step - loss: 0.0121 - acc: 0.9952 - val_loss: 0.1289 - val_acc: 0.9585\n",
            "Epoch 14/50\n",
            "56/56 [==============================] - 25s 446ms/step - loss: 0.0072 - acc: 0.9972 - val_loss: 0.0917 - val_acc: 0.9821\n",
            "Epoch 15/50\n",
            "56/56 [==============================] - 26s 463ms/step - loss: 0.0037 - acc: 0.9986 - val_loss: 0.0783 - val_acc: 0.9854\n",
            "Epoch 16/50\n",
            "56/56 [==============================] - 25s 451ms/step - loss: 0.0020 - acc: 0.9994 - val_loss: 0.0952 - val_acc: 0.9753\n",
            "Epoch 17/50\n",
            "56/56 [==============================] - 26s 470ms/step - loss: 0.0011 - acc: 1.0000 - val_loss: 0.1045 - val_acc: 0.9742\n",
            "Epoch 18/50\n",
            "56/56 [==============================] - 25s 445ms/step - loss: 4.5100e-04 - acc: 1.0000 - val_loss: 0.1056 - val_acc: 0.9787\n",
            "Epoch 19/50\n",
            "56/56 [==============================] - 26s 470ms/step - loss: 7.4941e-04 - acc: 1.0000 - val_loss: 0.0975 - val_acc: 0.9821\n",
            "Epoch 20/50\n",
            "56/56 [==============================] - 26s 470ms/step - loss: 3.5018e-04 - acc: 1.0000 - val_loss: 0.0901 - val_acc: 0.9776\n",
            "Epoch 21/50\n",
            "56/56 [==============================] - 26s 463ms/step - loss: 1.0742e-04 - acc: 1.0000 - val_loss: 0.1145 - val_acc: 0.9787\n",
            "Epoch 22/50\n",
            "56/56 [==============================] - 25s 443ms/step - loss: 6.2467e-04 - acc: 0.9997 - val_loss: 0.1020 - val_acc: 0.9832\n",
            "Epoch 23/50\n",
            "56/56 [==============================] - 25s 444ms/step - loss: 4.3410e-05 - acc: 1.0000 - val_loss: 0.1002 - val_acc: 0.9787\n",
            "Epoch 24/50\n",
            "56/56 [==============================] - 26s 456ms/step - loss: 6.7221e-05 - acc: 1.0000 - val_loss: 0.1043 - val_acc: 0.9765\n",
            "Epoch 25/50\n",
            "56/56 [==============================] - 25s 438ms/step - loss: 1.9690e-05 - acc: 1.0000 - val_loss: 0.1113 - val_acc: 0.9765\n",
            "Epoch 26/50\n",
            "56/56 [==============================] - 26s 463ms/step - loss: 2.4487e-05 - acc: 1.0000 - val_loss: 0.1225 - val_acc: 0.9787\n",
            "Epoch 27/50\n",
            "56/56 [==============================] - 24s 434ms/step - loss: 6.8495e-06 - acc: 1.0000 - val_loss: 0.1348 - val_acc: 0.9731\n",
            "Epoch 28/50\n",
            "56/56 [==============================] - 26s 467ms/step - loss: 7.0104e-04 - acc: 0.9997 - val_loss: 0.1527 - val_acc: 0.9742\n",
            "Epoch 29/50\n",
            "56/56 [==============================] - 26s 462ms/step - loss: 5.6372e-06 - acc: 1.0000 - val_loss: 0.1544 - val_acc: 0.9765\n",
            "Epoch 30/50\n",
            "56/56 [==============================] - 26s 459ms/step - loss: 5.6079e-06 - acc: 1.0000 - val_loss: 0.1701 - val_acc: 0.9765\n",
            "Epoch 31/50\n",
            "56/56 [==============================] - 25s 446ms/step - loss: 4.0864e-04 - acc: 0.9997 - val_loss: 0.1393 - val_acc: 0.9776\n",
            "Epoch 32/50\n",
            "56/56 [==============================] - 26s 456ms/step - loss: 2.6615e-06 - acc: 1.0000 - val_loss: 0.1443 - val_acc: 0.9798\n",
            "Epoch 33/50\n",
            "56/56 [==============================] - 25s 440ms/step - loss: 1.3757e-06 - acc: 1.0000 - val_loss: 0.1483 - val_acc: 0.9798\n",
            "Epoch 34/50\n",
            "56/56 [==============================] - 26s 461ms/step - loss: 1.0942e-06 - acc: 1.0000 - val_loss: 0.1552 - val_acc: 0.9787\n",
            "Epoch 35/50\n",
            "56/56 [==============================] - 25s 439ms/step - loss: 8.2795e-07 - acc: 1.0000 - val_loss: 0.1740 - val_acc: 0.9720\n",
            "Epoch 36/50\n",
            "56/56 [==============================] - 26s 458ms/step - loss: 4.0708e-07 - acc: 1.0000 - val_loss: 0.1894 - val_acc: 0.9720\n",
            "Epoch 37/50\n",
            "56/56 [==============================] - 24s 436ms/step - loss: 1.9173e-07 - acc: 1.0000 - val_loss: 0.1850 - val_acc: 0.9742\n",
            "Epoch 38/50\n",
            "56/56 [==============================] - 26s 466ms/step - loss: 1.5872e-07 - acc: 1.0000 - val_loss: 0.1902 - val_acc: 0.9798\n",
            "Epoch 39/50\n",
            "56/56 [==============================] - 25s 448ms/step - loss: 5.2855e-08 - acc: 1.0000 - val_loss: 0.1970 - val_acc: 0.9821\n",
            "Epoch 40/50\n",
            "56/56 [==============================] - 25s 450ms/step - loss: 2.7210e-08 - acc: 1.0000 - val_loss: 0.1962 - val_acc: 0.9787\n",
            "Epoch 41/50\n",
            "56/56 [==============================] - 25s 456ms/step - loss: 3.3078e-08 - acc: 1.0000 - val_loss: 0.1967 - val_acc: 0.9809\n",
            "Epoch 42/50\n",
            "56/56 [==============================] - 24s 436ms/step - loss: 2.9766e-08 - acc: 1.0000 - val_loss: 0.1905 - val_acc: 0.9776\n",
            "Epoch 43/50\n",
            "56/56 [==============================] - 25s 452ms/step - loss: 2.2197e-08 - acc: 1.0000 - val_loss: 0.2173 - val_acc: 0.9843\n",
            "Epoch 44/50\n",
            "56/56 [==============================] - 24s 431ms/step - loss: 1.8496e-08 - acc: 1.0000 - val_loss: 0.1973 - val_acc: 0.9843\n",
            "Epoch 45/50\n",
            "56/56 [==============================] - 25s 452ms/step - loss: 1.1596e-08 - acc: 1.0000 - val_loss: 0.2256 - val_acc: 0.9832\n",
            "Epoch 46/50\n",
            "56/56 [==============================] - 24s 436ms/step - loss: 1.6064e-08 - acc: 1.0000 - val_loss: 0.2077 - val_acc: 0.9843\n",
            "Epoch 47/50\n",
            "56/56 [==============================] - 26s 473ms/step - loss: 8.3219e-09 - acc: 1.0000 - val_loss: 0.2033 - val_acc: 0.9821\n",
            "Epoch 48/50\n",
            "56/56 [==============================] - 24s 429ms/step - loss: 8.9292e-09 - acc: 1.0000 - val_loss: 0.2017 - val_acc: 0.9832\n",
            "Epoch 49/50\n",
            "56/56 [==============================] - 25s 454ms/step - loss: 6.9105e-09 - acc: 1.0000 - val_loss: 0.2072 - val_acc: 0.9832\n",
            "Epoch 50/50\n",
            "56/56 [==============================] - 24s 429ms/step - loss: 6.8719e-09 - acc: 1.0000 - val_loss: 0.2139 - val_acc: 0.9832\n"
          ]
        },
        {
          "output_type": "execute_result",
          "data": {
            "text/plain": [
              "<keras.callbacks.History at 0x7fe6701a0950>"
            ]
          },
          "metadata": {},
          "execution_count": 17
        }
      ]
    },
    {
      "cell_type": "markdown",
      "metadata": {
        "id": "wkLEa97WnFJj"
      },
      "source": [
        "## Teste de nosso modelo"
      ]
    },
    {
      "cell_type": "code",
      "metadata": {
        "id": "r2a9aArFxqD9",
        "colab": {
          "base_uri": "https://localhost:8080/"
        },
        "outputId": "f6674137-58db-48f4-d141-6f5e9035c14e"
      },
      "source": [
        "prediction = model.predict(messages_test)\n",
        "accuracy = model.evaluate(messages_test, labels_test)\n",
        "print(\"Perda em teste {0:.2f} acuracia eh {1:.2f}  \".format(accuracy[0],accuracy[1]))"
      ],
      "execution_count": 18,
      "outputs": [
        {
          "output_type": "stream",
          "name": "stdout",
          "text": [
            "35/35 [==============================] - 1s 35ms/step\n",
            "35/35 [==============================] - 1s 37ms/step - loss: 0.2280 - acc: 0.9802\n",
            "Perda em teste 0.23 acuracia eh 0.98  \n"
          ]
        }
      ]
    },
    {
      "cell_type": "code",
      "metadata": {
        "id": "2JcyEZ6LxsPs",
        "colab": {
          "base_uri": "https://localhost:8080/"
        },
        "outputId": "ddc74e5a-47e9-4a91-893e-69b6cb54335a"
      },
      "source": [
        "# Construindo mensagem personalizada para teste rápido\n",
        "\n",
        "#custom_msg = 'Hi how are you'\n",
        "custom_msg = 'Free entry in 2 a wkly comp to win FA Cup final tkts 21st May Text FA to 87121 to receive entry question'\n",
        "\n",
        "test_seq = message_to_array(custom_msg)\n",
        "prediction = (model.predict(test_seq) > 0.5).astype(\"int32\")\n",
        "print(prediction)  #[1] para spam [0] para nao spam (ham)"
      ],
      "execution_count": 19,
      "outputs": [
        {
          "output_type": "stream",
          "name": "stdout",
          "text": [
            "1/1 [==============================] - 0s 147ms/step\n",
            "[[1]]\n"
          ]
        }
      ]
    }
  ]
}